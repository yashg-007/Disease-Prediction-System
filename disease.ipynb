{
 "cells": [
  {
   "cell_type": "code",
   "execution_count": 2,
   "metadata": {},
   "outputs": [
    {
     "name": "stdout",
     "output_type": "stream",
     "text": [
      "Collecting pillow\n",
      "  Downloading Pillow-9.5.0-cp310-cp310-win_amd64.whl (2.5 MB)\n",
      "     ---------------------------------------- 2.5/2.5 MB 6.9 MB/s eta 0:00:00\n",
      "Installing collected packages: pillow\n",
      "Successfully installed pillow-9.5.0\n",
      "Note: you may need to restart the kernel to use updated packages.\n"
     ]
    },
    {
     "name": "stderr",
     "output_type": "stream",
     "text": [
      "WARNING: You are using pip version 22.0.4; however, version 23.1.2 is available.\n",
      "You should consider upgrading via the 'c:\\Users\\Yash\\AppData\\Local\\Programs\\Python\\Python310\\python.exe -m pip install --upgrade pip' command.\n"
     ]
    }
   ],
   "source": [
    "pip install pillow"
   ]
  },
  {
   "cell_type": "code",
   "execution_count": 1,
   "metadata": {},
   "outputs": [
    {
     "name": "stdout",
     "output_type": "stream",
     "text": [
      "0.945273631840796\n",
      "0.945273631840796\n"
     ]
    },
    {
     "name": "stderr",
     "output_type": "stream",
     "text": [
      "c:\\Users\\Yash\\AppData\\Local\\Programs\\Python\\Python310\\lib\\site-packages\\sklearn\\base.py:439: UserWarning: X does not have valid feature names, but DecisionTreeClassifier was fitted with feature names\n",
      "  warnings.warn(\n",
      "c:\\Users\\Yash\\AppData\\Local\\Programs\\Python\\Python310\\lib\\site-packages\\sklearn\\base.py:439: UserWarning: X does not have valid feature names, but DecisionTreeClassifier was fitted with feature names\n",
      "  warnings.warn(\n"
     ]
    },
    {
     "name": "stdout",
     "output_type": "stream",
     "text": [
      "0.945273631840796\n"
     ]
    },
    {
     "name": "stderr",
     "output_type": "stream",
     "text": [
      "c:\\Users\\Yash\\AppData\\Local\\Programs\\Python\\Python310\\lib\\site-packages\\sklearn\\base.py:439: UserWarning: X does not have valid feature names, but DecisionTreeClassifier was fitted with feature names\n",
      "  warnings.warn(\n"
     ]
    },
    {
     "name": "stdout",
     "output_type": "stream",
     "text": [
      "0.945273631840796\n"
     ]
    },
    {
     "name": "stderr",
     "output_type": "stream",
     "text": [
      "c:\\Users\\Yash\\AppData\\Local\\Programs\\Python\\Python310\\lib\\site-packages\\sklearn\\base.py:439: UserWarning: X does not have valid feature names, but DecisionTreeClassifier was fitted with feature names\n",
      "  warnings.warn(\n"
     ]
    },
    {
     "name": "stdout",
     "output_type": "stream",
     "text": [
      "0.945273631840796\n"
     ]
    },
    {
     "name": "stderr",
     "output_type": "stream",
     "text": [
      "c:\\Users\\Yash\\AppData\\Local\\Programs\\Python\\Python310\\lib\\site-packages\\sklearn\\base.py:439: UserWarning: X does not have valid feature names, but DecisionTreeClassifier was fitted with feature names\n",
      "  warnings.warn(\n"
     ]
    },
    {
     "name": "stdout",
     "output_type": "stream",
     "text": [
      "0.945273631840796\n"
     ]
    },
    {
     "name": "stderr",
     "output_type": "stream",
     "text": [
      "c:\\Users\\Yash\\AppData\\Local\\Programs\\Python\\Python310\\lib\\site-packages\\sklearn\\base.py:439: UserWarning: X does not have valid feature names, but DecisionTreeClassifier was fitted with feature names\n",
      "  warnings.warn(\n"
     ]
    },
    {
     "name": "stdout",
     "output_type": "stream",
     "text": [
      "0.945273631840796\n"
     ]
    },
    {
     "name": "stderr",
     "output_type": "stream",
     "text": [
      "c:\\Users\\Yash\\AppData\\Local\\Programs\\Python\\Python310\\lib\\site-packages\\sklearn\\base.py:439: UserWarning: X does not have valid feature names, but DecisionTreeClassifier was fitted with feature names\n",
      "  warnings.warn(\n"
     ]
    },
    {
     "name": "stdout",
     "output_type": "stream",
     "text": [
      "0.945273631840796\n"
     ]
    },
    {
     "name": "stderr",
     "output_type": "stream",
     "text": [
      "c:\\Users\\Yash\\AppData\\Local\\Programs\\Python\\Python310\\lib\\site-packages\\sklearn\\base.py:439: UserWarning: X does not have valid feature names, but DecisionTreeClassifier was fitted with feature names\n",
      "  warnings.warn(\n"
     ]
    },
    {
     "name": "stdout",
     "output_type": "stream",
     "text": [
      "0.945273631840796\n"
     ]
    },
    {
     "name": "stderr",
     "output_type": "stream",
     "text": [
      "c:\\Users\\Yash\\AppData\\Local\\Programs\\Python\\Python310\\lib\\site-packages\\sklearn\\base.py:439: UserWarning: X does not have valid feature names, but DecisionTreeClassifier was fitted with feature names\n",
      "  warnings.warn(\n"
     ]
    },
    {
     "name": "stdout",
     "output_type": "stream",
     "text": [
      "0.945273631840796\n"
     ]
    },
    {
     "name": "stderr",
     "output_type": "stream",
     "text": [
      "c:\\Users\\Yash\\AppData\\Local\\Programs\\Python\\Python310\\lib\\site-packages\\sklearn\\base.py:439: UserWarning: X does not have valid feature names, but DecisionTreeClassifier was fitted with feature names\n",
      "  warnings.warn(\n"
     ]
    },
    {
     "name": "stdout",
     "output_type": "stream",
     "text": [
      "0.945273631840796\n"
     ]
    },
    {
     "name": "stderr",
     "output_type": "stream",
     "text": [
      "c:\\Users\\Yash\\AppData\\Local\\Programs\\Python\\Python310\\lib\\site-packages\\sklearn\\base.py:439: UserWarning: X does not have valid feature names, but DecisionTreeClassifier was fitted with feature names\n",
      "  warnings.warn(\n"
     ]
    }
   ],
   "source": [
    "from tkinter import *\n",
    "import numpy as np\n",
    "import pandas as pd\n",
    "from PIL import Image, ImageTk\n",
    "\n",
    "\n",
    "from tkinter import ttk\n",
    "import tkinter\n",
    "\n",
    "l1 = ['back_pain', 'constipation', 'abdominal_pain', 'diarrhoea', 'mild_fever', 'yellow_urine',\n",
    "      'yellowing_of_eyes', 'acute_liver_failure', 'fluid_overload', 'swelling_of_stomach',\n",
    "      'swelled_lymph_nodes', 'malaise', 'blurred_and_distorted_vision', 'phlegm', 'throat_irritation',\n",
    "      'redness_of_eyes', 'sinus_pressure', 'runny_nose', 'congestion', 'chest_pain', 'weakness_in_limbs',\n",
    "      'fast_heart_rate', 'pain_during_bowel_movements', 'pain_in_anal_region', 'bloody_stool',\n",
    "      'irritation_in_anus', 'neck_pain', 'dizziness', 'cramps', 'bruising', 'obesity', 'swollen_legs',\n",
    "      'swollen_blood_vessels', 'puffy_face_and_eyes', 'enlarged_thyroid', 'brittle_nails',\n",
    "      'swollen_extremeties', 'excessive_hunger', 'extra_marital_contacts', 'drying_and_tingling_lips',\n",
    "      'slurred_speech', 'knee_pain', 'hip_joint_pain', 'muscle_weakness', 'stiff_neck', 'swelling_joints',\n",
    "      'movement_stiffness', 'spinning_movements', 'loss_of_balance', 'unsteadiness',\n",
    "      'weakness_of_one_body_side', 'loss_of_smell', 'bladder_discomfort', 'foul_smell_of urine',\n",
    "      'continuous_feel_of_urine', 'passage_of_gases', 'internal_itching', 'toxic_look_(typhos)',\n",
    "      'depression', 'irritability', 'muscle_pain', 'altered_sensorium', 'red_spots_over_body', 'belly_pain',\n",
    "      'abnormal_menstruation', 'dischromic _patches', 'watering_from_eyes', 'increased_appetite', 'polyuria',\n",
    "      'family_history', 'mucoid_sputum',\n",
    "      'rusty_sputum', 'lack_of_concentration', 'visual_disturbances', 'receiving_blood_transfusion',\n",
    "      'receiving_unsterile_injections', 'coma', 'stomach_bleeding', 'distention_of_abdomen',\n",
    "      'history_of_alcohol_consumption', 'fluid_overload', 'blood_in_sputum', 'prominent_veins_on_calf',\n",
    "      'palpitations', 'painful_walking', 'pus_filled_pimples', 'blackheads', 'scurring', 'skin_peeling',\n",
    "      'silver_like_dusting', 'small_dents_in_nails', 'inflammatory_nails', 'blister', 'red_sore_around_nose',\n",
    "      'yellow_crust_ooze']\n",
    "\n",
    "disease = ['Fungal infection', 'Allergy', 'GERD', 'Chronic cholestasis', 'Drug Reaction',\n",
    "           'Peptic ulcer diseae', 'AIDS', 'Diabetes', 'Gastroenteritis', 'Bronchial Asthma', 'Hypertension',\n",
    "           ' Migraine', 'Cervical spondylosis',\n",
    "           'Paralysis (brain hemorrhage)', 'Jaundice', 'Malaria', 'Chicken pox', 'Dengue', 'Typhoid', 'hepatitis A',\n",
    "           'Hepatitis B', 'Hepatitis C', 'Hepatitis D', 'Hepatitis E', 'Alcoholic hepatitis', 'Tuberculosis',\n",
    "           'Common Cold', 'Pneumonia', 'Dimorphic hemmorhoids(piles)',\n",
    "           'Heartattack', 'Varicoseveins', 'Hypothyroidism', 'Hyperthyroidism', 'Hypoglycemia', 'Osteoarthristis',\n",
    "           'Arthritis', '(vertigo) Paroymsal  Positional Vertigo', 'Acne', 'Urinary tract infection', 'Psoriasis',\n",
    "           'Impetigo']\n",
    "\n",
    "l2 = []\n",
    "for x in range(0, len(l1)):\n",
    "    l2.append(0)\n",
    "# adds data\n",
    "\n",
    "# TRAINING DATA df -------------------------------------------------------------------------------------\n",
    "df = pd.read_csv(\"C:/Users/Yash/Downloads/Disease-Prediction-using-ml/Disease-Prediction-using-machine-learning-main/Training.csv\")\n",
    "\n",
    "df.replace({'prognosis': {'Fungal infection': 0, 'Allergy': 1, 'GERD': 2, 'Chronic cholestasis': 3, 'Drug Reaction': 4,\n",
    "                          'Peptic ulcer diseae': 5, 'AIDS': 6, 'Diabetes ': 7, 'Gastroenteritis': 8,\n",
    "                          'Bronchial Asthma': 9, 'Hypertension ': 10,\n",
    "                          'Migraine': 11, 'Cervical spondylosis': 12,\n",
    "                          'Paralysis (brain hemorrhage)': 13, 'Jaundice': 14, 'Malaria': 15, 'Chicken pox': 16,\n",
    "                          'Dengue': 17, 'Typhoid': 18, 'hepatitis A': 19,\n",
    "                          'Hepatitis B': 20, 'Hepatitis C': 21, 'Hepatitis D': 22, 'Hepatitis E': 23,\n",
    "                          'Alcoholic hepatitis': 24, 'Tuberculosis': 25,\n",
    "                          'Common Cold': 26, 'Pneumonia': 27, 'Dimorphic hemmorhoids(piles)': 28, 'Heart attack': 29,\n",
    "                          'Varicose veins': 30, 'Hypothyroidism': 31,\n",
    "                          'Hyperthyroidism': 32, 'Hypoglycemia': 33, 'Osteoarthristis': 34, 'Arthritis': 35,\n",
    "                          '(vertigo) Paroymsal  Positional Vertigo': 36, 'Acne': 37, 'Urinary tract infection': 38,\n",
    "                          'Psoriasis': 39,\n",
    "                          'Impetigo': 40}}, inplace=True)\n",
    "\n",
    "# implace = True is used here to replace and save the data in place of prognosis in the training data\n",
    "\n",
    "X = df[l1]\n",
    "\n",
    "y = df[[\"prognosis\"]]  # a sublist\n",
    "np.ravel(y)\n",
    "# ravel is used here to give the y array in 1D form\n",
    "# TESTING DATA = tr\n",
    "tr = pd.read_csv(\"C:/Users/Yash/Downloads/Disease-Prediction-using-ml/Disease-Prediction-using-machine-learning-main/Testing.csv\")\n",
    "tr.replace({'prognosis': {'Fungal infection': 0, 'Allergy': 1, 'GERD': 2, 'Chronic cholestasis': 3, 'Drug Reaction': 4,\n",
    "                          'Peptic ulcer diseae': 5, 'AIDS': 6, 'Diabetes ': 7, 'Gastroenteritis': 8,\n",
    "                          'Bronchial Asthma': 9, 'Hypertension ': 10,\n",
    "                          'Migraine': 11, 'Cervical spondylosis': 12,\n",
    "                          'Paralysis (brain hemorrhage)': 13, 'Jaundice': 14, 'Malaria': 15, 'Chicken pox': 16,\n",
    "                          'Dengue': 17, 'Typhoid': 18, 'hepatitis A': 19,\n",
    "                          'Hepatitis B': 20, 'Hepatitis C': 21, 'Hepatitis D': 22, 'Hepatitis E': 23,\n",
    "                          'Alcoholic hepatitis': 24, 'Tuberculosis': 25,\n",
    "                          'Common Cold': 26, 'Pneumonia': 27, 'Dimorphic hemmorhoids(piles)': 28, 'Heart attack': 29,\n",
    "                          'Varicose veins': 30, 'Hypothyroidism': 31,\n",
    "                          'Hyperthyroidism': 32, 'Hypoglycemia': 33, 'Osteoarthristis': 34, 'Arthritis': 35,\n",
    "                          '(vertigo) Paroymsal  Positional Vertigo': 36, 'Acne': 37, 'Urinary tract infection': 38,\n",
    "                          'Psoriasis': 39,\n",
    "                          'Impetigo': 40}}, inplace=True)\n",
    "\n",
    "X_test = tr[l1]\n",
    "y_test = tr[[\"prognosis\"]]\n",
    "np.ravel(y_test)\n",
    "\n",
    "\n",
    "def DecisionTree():\n",
    "    from sklearn import tree\n",
    "\n",
    "    clf3 = tree.DecisionTreeClassifier()  # empty model of the decision tree\n",
    "    clf3 = clf3.fit(X, y)\n",
    "\n",
    "    # calculating accuracy\n",
    "    from sklearn.metrics import accuracy_score\n",
    "    y_pred = clf3.predict(X_test)\n",
    "    print(accuracy_score(y_test, y_pred))\n",
    "\n",
    "    psymptoms = [Symptom1.get(), Symptom2.get(), Symptom3.get(), Symptom4.get(), Symptom5.get()]\n",
    "\n",
    "    for k in range(0, len(l1)):\n",
    "        for z in psymptoms:\n",
    "            if (z == l1[k]):\n",
    "                l2[k] = 1\n",
    "\n",
    "    inputtest = [l2]\n",
    "    predict = clf3.predict(inputtest)\n",
    "    predicted = predict[0]\n",
    "\n",
    "    h = 'no'\n",
    "    for a in range(0, len(disease)):\n",
    "        if (predicted == a):\n",
    "            h = 'yes'\n",
    "            break\n",
    "\n",
    "    if (h == 'yes'):\n",
    "        t1.delete(\"1.0\", END)\n",
    "        t1.insert(END, disease[a])\n",
    "    else:\n",
    "        t1.delete(\"1.0\", END)\n",
    "        t1.insert(END, \"Not Found\")\n",
    "\n",
    "\n",
    "root = Tk()\n",
    "root.title(\"DISEASE PREDICTOR SYSTEM\")\n",
    "root.geometry(\"1400x1400+0+0\")\n",
    "# root.resizable(False, False)\n",
    "\n",
    "# entry variables\n",
    "# here set(None) is used as set() expects an iterable\n",
    "Symptom1 = StringVar()\n",
    "Symptom1.set(None)\n",
    "Symptom2 = StringVar()\n",
    "Symptom2.set(None)\n",
    "Symptom3 = StringVar()\n",
    "Symptom3.set(None)\n",
    "Symptom4 = StringVar()\n",
    "Symptom4.set(None)\n",
    "Symptom5 = StringVar()\n",
    "Symptom5.set(None)\n",
    "Name = StringVar()\n",
    "\n",
    "# Heading\n",
    "title_lbl = Label(root, text=\"Disease Prediction System\", font=(\"times and roman\", 30, \"bold\"), bg=\"black\", fg=\"white\")\n",
    "title_lbl.place(x=0, y=0, width=1600, height=100)\n",
    "\n",
    "main_frame = Frame(root, bd=2, bg=\"lightgreen\")\n",
    "main_frame.place(x=250, y=100, width=1000, height=600)\n",
    "\n",
    "img = Image.open(\"bg.jpeg\")\n",
    "img = img.resize((1000, 600), Image.LANCZOS)\n",
    "photoimg = ImageTk.PhotoImage(img)\n",
    "\n",
    "f_lbl = Label(main_frame, image=photoimg)\n",
    "f_lbl.place(x=0, y=0, width=1000, height=600)\n",
    "\n",
    "# labels\n",
    "name_lbl = Label(main_frame, text=\"Name of the Patient\", font=(\"times and roman\", 25, \"bold\"), fg=\"yellow\", bg=\"black\")\n",
    "name_lbl.place(x=50, y=10, width=350, height=50)\n",
    "\n",
    "S1Lb = Label(main_frame, text=\"Symptom 1\", font=(\"times and roman\", 17, \"bold\"), fg=\"yellow\", bg=\"black\")\n",
    "S1Lb.place(x=50, y=70, width=250, height=50)\n",
    "\n",
    "S2Lb = Label(main_frame, text=\"Symptom 2\", font=(\"times and roman\", 17, \"bold\"), fg=\"yellow\", bg=\"black\")\n",
    "S2Lb.place(x=50, y=130, width=250, height=50)\n",
    "\n",
    "S3Lb = Label(main_frame, text=\"Symptom 3\", font=(\"times and roman\", 17, \"bold\"), fg=\"yellow\", bg=\"black\")\n",
    "S3Lb.place(x=50, y=190, width=250, height=50)\n",
    "\n",
    "S4Lb = Label(main_frame, text=\"Symptom 4\", font=(\"times and roman\", 17, \"bold\"), fg=\"yellow\", bg=\"black\")\n",
    "S4Lb.place(x=50, y=250, width=250, height=50)\n",
    "\n",
    "S5Lb = Label(main_frame, text=\"Symptom 5\", font=(\"times and roman\", 17, \"bold\"), fg=\"yellow\", bg=\"black\")\n",
    "S5Lb.place(x=50, y=310, width=250, height=50)\n",
    "\n",
    "lrLb = Label(main_frame, text=\"Result\", font=(\"times and roman\", 17, \"bold\"), fg=\"white\", bg=\"red\")\n",
    "lrLb.place(x=50, y=500, width=250, height=50)\n",
    "\n",
    "# entries\n",
    "OPTIONS = sorted(l1)\n",
    "\n",
    "NameEn = Entry(main_frame, textvariable=Name, font=(\"times and roman\", 17, \"bold\"))\n",
    "NameEn.place(x=450, y=10, width=450, height=50)\n",
    "\n",
    "S1En = OptionMenu(main_frame, Symptom1, *OPTIONS)\n",
    "S1En.place(x=450, y=70, width=300, height=50)\n",
    "\n",
    "S2En = OptionMenu(main_frame, Symptom2, *OPTIONS)\n",
    "S2En.place(x=450, y=130, width=300, height=50)\n",
    "\n",
    "S3En = OptionMenu(main_frame, Symptom3, *OPTIONS)\n",
    "S3En.place(x=450, y=190, width=300, height=50)\n",
    "\n",
    "S4En = OptionMenu(main_frame, Symptom4, *OPTIONS)\n",
    "S4En.place(x=450, y=250, width=300, height=50)\n",
    "\n",
    "S5En = OptionMenu(main_frame, Symptom5, *OPTIONS)\n",
    "S5En.place(x=450, y=310, width=300, height=50)\n",
    "\n",
    "dst = Button(main_frame, text=\"Analyse\", command=DecisionTree, font=(\"times and roman\", 17, \"bold\"), bg=\"green\",\n",
    "             fg=\"yellow\")\n",
    "dst.place(x=50, y=390, width=400, height=100)\n",
    "exit_button = Button(main_frame, text=\"Exit\", command=root.destroy,font=(\"times and roman\", 17, \"bold\"), bg=\"red2\",\n",
    "             fg=\"yellow\")\n",
    "exit_button.place(x=500,y=390, width=400, height=100)\n",
    "# textfileds\n",
    "t1 = Text(main_frame, height=1, width=40, font=(\"times and roman\", 15, \"bold\"), bg=\"orange\", fg=\"black\")\n",
    "t1.place(x=500, y=500, width=400, height=50)\n",
    "\n",
    "root.mainloop()"
   ]
  }
 ],
 "metadata": {
  "kernelspec": {
   "display_name": "Python 3",
   "language": "python",
   "name": "python3"
  },
  "language_info": {
   "codemirror_mode": {
    "name": "ipython",
    "version": 3
   },
   "file_extension": ".py",
   "mimetype": "text/x-python",
   "name": "python",
   "nbconvert_exporter": "python",
   "pygments_lexer": "ipython3",
   "version": "3.10.4"
  },
  "orig_nbformat": 4
 },
 "nbformat": 4,
 "nbformat_minor": 2
}
